{
 "cells": [
  {
   "cell_type": "code",
   "execution_count": 1,
   "id": "d8fdbb7b-26a4-4953-b134-3f002fb0bf37",
   "metadata": {},
   "outputs": [],
   "source": [
    "from pyspark.sql import SparkSession\n",
    "from pyspark.sql import *\n",
    "from pyspark.sql.functions import *\n",
    "\n",
    "spark = SparkSession.builder.getOrCreate()"
   ]
  },
  {
   "cell_type": "code",
   "execution_count": 37,
   "id": "552293aa-2c31-4605-afbc-d7c474f63e3a",
   "metadata": {},
   "outputs": [
    {
     "name": "stdout",
     "output_type": "stream",
     "text": [
      "+----+-----+-----------+------+---------+-------+-------+-----+\n",
      "|DKOD| DNEV|FOGLALKOZAS|FONOKE|  BELEPES|FIZETES|JUTALEK|OAZON|\n",
      "+----+-----+-----------+------+---------+-------+-------+-----+\n",
      "|7839| KING|  PRESIDENT|     0|81-NOV-17|   5000|      0|   10|\n",
      "|7698|BLAKE|    MANAGER|  7839|81-MAY-01|   2850|      0|   30|\n",
      "|7782|CLARK|    MANAGER|  7839|81-JUN-09|   2450|      0|   10|\n",
      "+----+-----+-----------+------+---------+-------+-------+-----+\n",
      "only showing top 3 rows\n",
      "\n"
     ]
    }
   ],
   "source": [
    "df = spark.read.format(\"csv\")\\\n",
    ".option(\"header\", True)\\\n",
    ".option(\"inferschema\", True)\\\n",
    ".load(\"dolgozo.csv\")\n",
    "df.show(3)"
   ]
  },
  {
   "cell_type": "code",
   "execution_count": 38,
   "id": "d6fbe3a9-4f2b-4fbc-a2a3-eb8f8cbb20c4",
   "metadata": {},
   "outputs": [
    {
     "name": "stdout",
     "output_type": "stream",
     "text": [
      "root\n",
      " |-- DKOD: integer (nullable = true)\n",
      " |-- DNEV: string (nullable = true)\n",
      " |-- FOGLALKOZAS: string (nullable = true)\n",
      " |-- FONOKE: integer (nullable = true)\n",
      " |-- BELEPES: string (nullable = true)\n",
      " |-- FIZETES: integer (nullable = true)\n",
      " |-- JUTALEK: integer (nullable = true)\n",
      " |-- OAZON: integer (nullable = true)\n",
      "\n"
     ]
    }
   ],
   "source": [
    "df.printSchema()"
   ]
  },
  {
   "cell_type": "code",
   "execution_count": 12,
   "id": "8a3b79b8-221e-4b3a-99ba-36f7667c0bf7",
   "metadata": {},
   "outputs": [],
   "source": [
    "from pyspark.sql.types import StructType, StructField, StringType, IntegerType\n",
    "\n",
    "dolgozoSchema = StructType([\\\n",
    "                StructField(\"DKOD\", IntegerType()),\\\n",
    "                StructField(\"DNEV\", StringType()),\\\n",
    "                StructField(\"FOGLALKOZAS\", StringType()),\\\n",
    "                StructField(\"FONOKE\", IntegerType()),\\\n",
    "                StructField(\"BELEPES\", StringType()),\\\n",
    "                StructField(\"FIZETES\", IntegerType()),\\\n",
    "                StructField(\"JUTALEK\", IntegerType()),\\\n",
    "                StructField(\"OAZON\", IntegerType())])"
   ]
  },
  {
   "cell_type": "code",
   "execution_count": 35,
   "id": "9f21f091-c41b-4435-9043-3d59958f892e",
   "metadata": {},
   "outputs": [
    {
     "name": "stdout",
     "output_type": "stream",
     "text": [
      "root\n",
      " |-- DKOD: integer (nullable = true)\n",
      " |-- DNEV: string (nullable = true)\n",
      " |-- FOGLALKOZAS: string (nullable = true)\n",
      " |-- FONOKE: integer (nullable = true)\n",
      " |-- BELEPES: string (nullable = true)\n",
      " |-- FIZETES: integer (nullable = true)\n",
      " |-- JUTALEK: integer (nullable = true)\n",
      " |-- OAZON: integer (nullable = true)\n",
      "\n"
     ]
    }
   ],
   "source": [
    "df = spark.read.format(\"csv\")\\\n",
    ".schema(dolgozoSchema)\\\n",
    ".option(\"header\", True)\\\n",
    ".load(\"dolgozo.csv\")\n",
    "df.printSchema()"
   ]
  },
  {
   "cell_type": "code",
   "execution_count": 14,
   "id": "394d23aa-6426-4083-b22b-6ef639a5cc66",
   "metadata": {},
   "outputs": [
    {
     "name": "stdout",
     "output_type": "stream",
     "text": [
      "+-----+-----------+\n",
      "| DNEV|FOGLALKOZAS|\n",
      "+-----+-----------+\n",
      "| KING|  PRESIDENT|\n",
      "|BLAKE|    MANAGER|\n",
      "|CLARK|    MANAGER|\n",
      "|JONES|    MANAGER|\n",
      "+-----+-----------+\n",
      "only showing top 4 rows\n",
      "\n"
     ]
    }
   ],
   "source": [
    "df.select('DNEV', 'FOGLALKOZAS').show(4)"
   ]
  },
  {
   "cell_type": "code",
   "execution_count": 18,
   "id": "3a4e7b6d-d540-44ee-91d3-f1f56842f067",
   "metadata": {},
   "outputs": [
    {
     "name": "stdout",
     "output_type": "stream",
     "text": [
      "+----+------+-----------+------+---------+-------+-------+-----+------------+\n",
      "|DKOD|  DNEV|FOGLALKOZAS|FONOKE|  BELEPES|FIZETES|JUTALEK|OAZON|havi_kereset|\n",
      "+----+------+-----------+------+---------+-------+-------+-----+------------+\n",
      "|7839|  KING|  PRESIDENT|     0|81-NOV-17|   5000|      0|   10|        5000|\n",
      "|7698| BLAKE|    MANAGER|  7839|81-MAY-01|   2850|      0|   30|        2850|\n",
      "|7782| CLARK|    MANAGER|  7839|81-JUN-09|   2450|      0|   10|        2450|\n",
      "|7566| JONES|    MANAGER|  7839|81-APR-02|   2975|      0|   20|        2975|\n",
      "|7654|MARTIN|   SALESMAN|  7698|81-SEP-28|   1250|   1400|   30|        2650|\n",
      "+----+------+-----------+------+---------+-------+-------+-----+------------+\n",
      "only showing top 5 rows\n",
      "\n"
     ]
    }
   ],
   "source": [
    "df.selectExpr('*', '(FIZETES + JUTALEK) as havi_kereset').show(5)"
   ]
  },
  {
   "cell_type": "code",
   "execution_count": 19,
   "id": "6fd25ac1-eea8-4ed0-9aa7-2d0006a6961e",
   "metadata": {},
   "outputs": [
    {
     "name": "stdout",
     "output_type": "stream",
     "text": [
      "+----+------+-----------+------+---------+-------+-------+-----+-------+\n",
      "|DKOD|  DNEV|FOGLALKOZAS|FONOKE|  BELEPES|FIZETES|JUTALEK|OAZON|kereset|\n",
      "+----+------+-----------+------+---------+-------+-------+-----+-------+\n",
      "|7839|  KING|  PRESIDENT|     0|81-NOV-17|   5000|      0|   10|   5000|\n",
      "|7698| BLAKE|    MANAGER|  7839|81-MAY-01|   2850|      0|   30|   2850|\n",
      "|7782| CLARK|    MANAGER|  7839|81-JUN-09|   2450|      0|   10|   2450|\n",
      "|7566| JONES|    MANAGER|  7839|81-APR-02|   2975|      0|   20|   2975|\n",
      "|7654|MARTIN|   SALESMAN|  7698|81-SEP-28|   1250|   1400|   30|   2650|\n",
      "+----+------+-----------+------+---------+-------+-------+-----+-------+\n",
      "only showing top 5 rows\n",
      "\n"
     ]
    }
   ],
   "source": [
    "df.withColumn('kereset', expr('FIZETES + JUTALEK')).show(5)"
   ]
  },
  {
   "cell_type": "code",
   "execution_count": 20,
   "id": "c141e3c5-05fd-412f-ae3d-1287d2914ad7",
   "metadata": {},
   "outputs": [
    {
     "name": "stdout",
     "output_type": "stream",
     "text": [
      "+----+-----+-----------+------+---------+-------+-------+\n",
      "|DKOD| DNEV|FOGLALKOZAS|FONOKE|  BELEPES|FIZETES|JUTALEK|\n",
      "+----+-----+-----------+------+---------+-------+-------+\n",
      "|7839| KING|  PRESIDENT|     0|81-NOV-17|   5000|      0|\n",
      "|7698|BLAKE|    MANAGER|  7839|81-MAY-01|   2850|      0|\n",
      "|7782|CLARK|    MANAGER|  7839|81-JUN-09|   2450|      0|\n",
      "+----+-----+-----------+------+---------+-------+-------+\n",
      "only showing top 3 rows\n",
      "\n"
     ]
    }
   ],
   "source": [
    "df.drop('OAZON').show(3)"
   ]
  },
  {
   "cell_type": "code",
   "execution_count": 21,
   "id": "4e1f2b88-20e8-4dfa-b25d-93f28145e169",
   "metadata": {},
   "outputs": [
    {
     "name": "stdout",
     "output_type": "stream",
     "text": [
      "+----+-----+-----------+------+---------+------------+-------+-----+\n",
      "|DKOD| DNEV|FOGLALKOZAS|FONOKE|  BELEPES|HAVI_FIZETES|JUTALEK|OAZON|\n",
      "+----+-----+-----------+------+---------+------------+-------+-----+\n",
      "|7839| KING|  PRESIDENT|     0|81-NOV-17|        5000|      0|   10|\n",
      "|7698|BLAKE|    MANAGER|  7839|81-MAY-01|        2850|      0|   30|\n",
      "|7782|CLARK|    MANAGER|  7839|81-JUN-09|        2450|      0|   10|\n",
      "+----+-----+-----------+------+---------+------------+-------+-----+\n",
      "only showing top 3 rows\n",
      "\n"
     ]
    }
   ],
   "source": [
    "df.withColumnRenamed('FIZETES', 'HAVI_FIZETES').show(3)"
   ]
  },
  {
   "cell_type": "code",
   "execution_count": 22,
   "id": "0e248bda-d3e5-457f-b4f9-a078f1131781",
   "metadata": {},
   "outputs": [
    {
     "name": "stdout",
     "output_type": "stream",
     "text": [
      "+----+----+-----------+------+---------+-------+-------+-----+\n",
      "|DKOD|DNEV|FOGLALKOZAS|FONOKE|  BELEPES|FIZETES|JUTALEK|OAZON|\n",
      "+----+----+-----------+------+---------+-------+-------+-----+\n",
      "|7839|KING|  PRESIDENT|     0|81-NOV-17|   5000|      0|   10|\n",
      "+----+----+-----------+------+---------+-------+-------+-----+\n",
      "\n"
     ]
    }
   ],
   "source": [
    "df.filter(col('FIZETES') > 3000).show()"
   ]
  },
  {
   "cell_type": "code",
   "execution_count": 23,
   "id": "a3301f6c-f4d0-43e6-8dc3-1e4a5ddd30ab",
   "metadata": {},
   "outputs": [
    {
     "name": "stdout",
     "output_type": "stream",
     "text": [
      "+----+----+-----------+------+---------+-------+-------+-----+\n",
      "|DKOD|DNEV|FOGLALKOZAS|FONOKE|  BELEPES|FIZETES|JUTALEK|OAZON|\n",
      "+----+----+-----------+------+---------+-------+-------+-----+\n",
      "|7839|KING|  PRESIDENT|     0|81-NOV-17|   5000|      0|   10|\n",
      "+----+----+-----------+------+---------+-------+-------+-----+\n",
      "\n"
     ]
    }
   ],
   "source": [
    "df.where(col('FIZETES') > 3000).show()"
   ]
  },
  {
   "cell_type": "code",
   "execution_count": 25,
   "id": "028e8323-d8e8-4eed-a446-e9642bd614a0",
   "metadata": {},
   "outputs": [
    {
     "name": "stdout",
     "output_type": "stream",
     "text": [
      "+----+-----+-----------+------+---------+-------+-------+-----+\n",
      "|DKOD| DNEV|FOGLALKOZAS|FONOKE|  BELEPES|FIZETES|JUTALEK|OAZON|\n",
      "+----+-----+-----------+------+---------+-------+-------+-----+\n",
      "|7902| FORD|    ANALYST|  7566|81-DEC-03|   3000|      0|   20|\n",
      "|7788|SCOTT|    ANALYST|  7566|82-DEC-09|   3000|      0|   20|\n",
      "+----+-----+-----------+------+---------+-------+-------+-----+\n",
      "\n"
     ]
    }
   ],
   "source": [
    "df.filter(col('FIZETES') > 2000).where(col('FOGLALKOZAS') == 'ANALYST').show()"
   ]
  },
  {
   "cell_type": "code",
   "execution_count": 26,
   "id": "cc1f88e5-c8de-408f-a4e9-ee386f92071a",
   "metadata": {},
   "outputs": [
    {
     "name": "stdout",
     "output_type": "stream",
     "text": [
      "+----+-----+-----------+------+---------+-------+-------+-----+\n",
      "|DKOD| DNEV|FOGLALKOZAS|FONOKE|  BELEPES|FIZETES|JUTALEK|OAZON|\n",
      "+----+-----+-----------+------+---------+-------+-------+-----+\n",
      "|7839| KING|  PRESIDENT|     0|81-NOV-17|   5000|      0|   10|\n",
      "|7698|BLAKE|    MANAGER|  7839|81-MAY-01|   2850|      0|   30|\n",
      "|7782|CLARK|    MANAGER|  7839|81-JUN-09|   2450|      0|   10|\n",
      "|7566|JONES|    MANAGER|  7839|81-APR-02|   2975|      0|   20|\n",
      "|7902| FORD|    ANALYST|  7566|81-DEC-03|   3000|      0|   20|\n",
      "|7788|SCOTT|    ANALYST|  7566|82-DEC-09|   3000|      0|   20|\n",
      "+----+-----+-----------+------+---------+-------+-------+-----+\n",
      "\n"
     ]
    }
   ],
   "source": [
    "df.filter((col('FIZETES') > 2000) | (col('FOGLALKOZAS') == 'ANALYST')).show()"
   ]
  },
  {
   "cell_type": "code",
   "execution_count": 28,
   "id": "6e7e53f9-385b-41cb-8e59-d4e6a25f3002",
   "metadata": {},
   "outputs": [
    {
     "name": "stdout",
     "output_type": "stream",
     "text": [
      "+-----------+\n",
      "|FOGLALKOZAS|\n",
      "+-----------+\n",
      "|    ANALYST|\n",
      "|   SALESMAN|\n",
      "|      CLERK|\n",
      "|    MANAGER|\n",
      "|  PRESIDENT|\n",
      "|       NULL|\n",
      "+-----------+\n",
      "\n"
     ]
    }
   ],
   "source": [
    "df.select('FOGLALKOZAS').distinct().show()"
   ]
  },
  {
   "cell_type": "code",
   "execution_count": 29,
   "id": "8bd0fe4d-7e55-4933-be05-96bd2cf9ac7e",
   "metadata": {},
   "outputs": [
    {
     "data": {
      "text/plain": [
       "6"
      ]
     },
     "execution_count": 29,
     "metadata": {},
     "output_type": "execute_result"
    }
   ],
   "source": [
    "df.select('FOGLALKOZAS').distinct().count()"
   ]
  },
  {
   "cell_type": "code",
   "execution_count": 30,
   "id": "8023c783-970d-4fd0-9683-9c77023d8fc4",
   "metadata": {},
   "outputs": [
    {
     "name": "stdout",
     "output_type": "stream",
     "text": [
      "+----+------+-----------+------+---------+-------+-------+-----+\n",
      "|DKOD|  DNEV|FOGLALKOZAS|FONOKE|  BELEPES|FIZETES|JUTALEK|OAZON|\n",
      "+----+------+-----------+------+---------+-------+-------+-----+\n",
      "|7839|  KING|  PRESIDENT|     0|81-NOV-17|   5000|      0|   10|\n",
      "|7782| CLARK|    MANAGER|  7839|81-JUN-09|   2450|      0|   10|\n",
      "|7934|MILLER|      CLERK|  7782|82-JAN-23|   1300|      0|   10|\n",
      "|7877|  LOLA|      CLERK|  7902|81-JAN-12|    800|      0|   10|\n",
      "|7902|  FORD|    ANALYST|  7566|81-DEC-03|   3000|      0|   20|\n",
      "|7788| SCOTT|    ANALYST|  7566|82-DEC-09|   3000|      0|   20|\n",
      "|7566| JONES|    MANAGER|  7839|81-APR-02|   2975|      0|   20|\n",
      "|7878| BLACK|       NULL|  7902|87-MAY-01|   1800|    300|   20|\n",
      "|7876| ADAMS|      CLERK|  7788|83-JAN-12|   1100|      0|   20|\n",
      "|7369| SMITH|      CLERK|  7902|80-DEC-17|    800|      0|   20|\n",
      "|7698| BLAKE|    MANAGER|  7839|81-MAY-01|   2850|      0|   30|\n",
      "|7499| ALLEN|   SALESMAN|  7698|81-FEB-20|   1600|    300|   30|\n",
      "|7844|TURNER|   SALESMAN|  7698|81-SEP-08|   1500|      0|   30|\n",
      "|7654|MARTIN|   SALESMAN|  7698|81-SEP-28|   1250|   1400|   30|\n",
      "|7521|  WARD|   SALESMAN|  7698|81-FEB-22|   1250|    500|   30|\n",
      "|7900| JAMES|      CLERK|  7698|81-DEC-03|    950|      0|   30|\n",
      "+----+------+-----------+------+---------+-------+-------+-----+\n",
      "\n"
     ]
    }
   ],
   "source": [
    "df.orderBy(col('OAZON') , col('FIZETES').desc()).show()"
   ]
  },
  {
   "cell_type": "code",
   "execution_count": 40,
   "id": "dbc1edce-b65b-47b8-93a9-a5aba2c635a0",
   "metadata": {},
   "outputs": [
    {
     "name": "stdout",
     "output_type": "stream",
     "text": [
      "+-----+-----+\n",
      "|OAZON|count|\n",
      "+-----+-----+\n",
      "|   20|    6|\n",
      "|   10|    4|\n",
      "|   30|    6|\n",
      "+-----+-----+\n",
      "\n"
     ]
    }
   ],
   "source": [
    "df.groupBy('OAZON').count().show()"
   ]
  },
  {
   "cell_type": "code",
   "execution_count": 42,
   "id": "f8c40555-31e1-4da7-9c08-961161970112",
   "metadata": {},
   "outputs": [
    {
     "name": "stdout",
     "output_type": "stream",
     "text": [
      "+----+-----+-----------+------+---------+-------+-------+-----+\n",
      "|DKOD| DNEV|FOGLALKOZAS|FONOKE|  BELEPES|FIZETES|JUTALEK|OAZON|\n",
      "+----+-----+-----------+------+---------+-------+-------+-----+\n",
      "|7839| KING|  PRESIDENT|     0|81-NOV-17|   5000|      0|   10|\n",
      "|7698|BLAKE|    MANAGER|  7839|81-MAY-01|   2850|      0|   30|\n",
      "|7782|CLARK|    MANAGER|  7839|81-JUN-09|   2450|      0|   10|\n",
      "+----+-----+-----------+------+---------+-------+-------+-----+\n",
      "only showing top 3 rows\n",
      "\n",
      "+----+------+-----------+------+---------+-------+-------+-----+-----+----------+---------+\n",
      "|DKOD|  DNEV|FOGLALKOZAS|FONOKE|  BELEPES|FIZETES|JUTALEK|OAZON|OAZON|       NEV|TELEPHELY|\n",
      "+----+------+-----------+------+---------+-------+-------+-----+-----+----------+---------+\n",
      "|7839|  KING|  PRESIDENT|     0|81-NOV-17|   5000|      0|   10|   10|ACCOUNTING| NEW YORK|\n",
      "|7698| BLAKE|    MANAGER|  7839|81-MAY-01|   2850|      0|   30|   30|     SALES|  CHICAGO|\n",
      "|7782| CLARK|    MANAGER|  7839|81-JUN-09|   2450|      0|   10|   10|ACCOUNTING| NEW YORK|\n",
      "|7566| JONES|    MANAGER|  7839|81-APR-02|   2975|      0|   20|   20|  RESEARCH|   DALLAS|\n",
      "|7654|MARTIN|   SALESMAN|  7698|81-SEP-28|   1250|   1400|   30|   30|     SALES|  CHICAGO|\n",
      "|7499| ALLEN|   SALESMAN|  7698|81-FEB-20|   1600|    300|   30|   30|     SALES|  CHICAGO|\n",
      "|7844|TURNER|   SALESMAN|  7698|81-SEP-08|   1500|      0|   30|   30|     SALES|  CHICAGO|\n",
      "|7900| JAMES|      CLERK|  7698|81-DEC-03|    950|      0|   30|   30|     SALES|  CHICAGO|\n",
      "|7521|  WARD|   SALESMAN|  7698|81-FEB-22|   1250|    500|   30|   30|     SALES|  CHICAGO|\n",
      "|7902|  FORD|    ANALYST|  7566|81-DEC-03|   3000|      0|   20|   20|  RESEARCH|   DALLAS|\n",
      "|7369| SMITH|      CLERK|  7902|80-DEC-17|    800|      0|   20|   20|  RESEARCH|   DALLAS|\n",
      "|7788| SCOTT|    ANALYST|  7566|82-DEC-09|   3000|      0|   20|   20|  RESEARCH|   DALLAS|\n",
      "|7876| ADAMS|      CLERK|  7788|83-JAN-12|   1100|      0|   20|   20|  RESEARCH|   DALLAS|\n",
      "|7934|MILLER|      CLERK|  7782|82-JAN-23|   1300|      0|   10|   10|ACCOUNTING| NEW YORK|\n",
      "|7877|  LOLA|      CLERK|  7902|81-JAN-12|    800|      0|   10|   10|ACCOUNTING| NEW YORK|\n",
      "|7878| BLACK|       NULL|  7902|87-MAY-01|   1800|    300|   20|   20|  RESEARCH|   DALLAS|\n",
      "+----+------+-----------+------+---------+-------+-------+-----+-----+----------+---------+\n",
      "\n"
     ]
    }
   ],
   "source": [
    "osztaly = spark.read.format(\"csv\")\\\n",
    ".option(\"header\", True)\\\n",
    ".option(\"inferschema\", True)\\\n",
    ".load(\"osztaly.csv\")\n",
    "df.show(3)\n",
    "\n",
    "df.alias('D')\\\n",
    ".join(osztaly.alias('O'), col('D.OAZON') == col('O.OAZON'), \"inner\")\\\n",
    ".show()"
   ]
  },
  {
   "cell_type": "code",
   "execution_count": 43,
   "id": "e4ff7ded-1e95-4db0-8baa-ee563b45cfae",
   "metadata": {},
   "outputs": [
    {
     "name": "stdout",
     "output_type": "stream",
     "text": [
      "+----+------+-----------+------+---------+-------+-------+-----+\n",
      "|DKOD|  DNEV|FOGLALKOZAS|FONOKE|  BELEPES|FIZETES|JUTALEK|OAZON|\n",
      "+----+------+-----------+------+---------+-------+-------+-----+\n",
      "|7839|  KING|  PRESIDENT|     0|81-NOV-17|   5000|      0|   10|\n",
      "|7698| BLAKE|    MANAGER|  7839|81-MAY-01|   2850|      0|   30|\n",
      "|7782| CLARK|    MANAGER|  7839|81-JUN-09|   2450|      0|   10|\n",
      "|7566| JONES|    MANAGER|  7839|81-APR-02|   2975|      0|   20|\n",
      "|7654|MARTIN|   SALESMAN|  7698|81-SEP-28|   1250|   1400|   30|\n",
      "+----+------+-----------+------+---------+-------+-------+-----+\n",
      "only showing top 5 rows\n",
      "\n"
     ]
    }
   ],
   "source": [
    "df.createTempView('dolgozoTable')\n",
    "spark.sql('SELECT * FROM dolgozoTable').show(5)"
   ]
  },
  {
   "cell_type": "code",
   "execution_count": 44,
   "id": "13fedf2f-18e4-445c-818d-92716e0e692a",
   "metadata": {},
   "outputs": [],
   "source": [
    "retail = spark.read.format(\"csv\")\\\n",
    ".option(\"header\", True)\\\n",
    ".option(\"inferschema\", True)\\\n",
    ".load(\"online_retail_data.csv\")"
   ]
  },
  {
   "cell_type": "code",
   "execution_count": 45,
   "id": "d3984941-f713-45f0-8172-6a14d296aa98",
   "metadata": {},
   "outputs": [],
   "source": [
    "retail.createTempView('retailTable')"
   ]
  },
  {
   "cell_type": "code",
   "execution_count": 46,
   "id": "415fd035-321f-414f-8e05-6219f5cc7dec",
   "metadata": {},
   "outputs": [
    {
     "name": "stdout",
     "output_type": "stream",
     "text": [
      "+-------+------------------+------------------+\n",
      "|summary|          Quantity|         UnitPrice|\n",
      "+-------+------------------+------------------+\n",
      "|  count|            542014|            542014|\n",
      "|   mean| 9.555284549845576|4.6113391978817315|\n",
      "| stddev|218.06048544770567| 96.75097958042583|\n",
      "|    min|            -80995|         -11062.06|\n",
      "|    25%|                 1|              1.25|\n",
      "|    50%|                 3|              2.08|\n",
      "|    75%|                10|              4.13|\n",
      "|    max|             80995|           38970.0|\n",
      "+-------+------------------+------------------+\n",
      "\n"
     ]
    }
   ],
   "source": [
    "retail.select('Quantity', 'UnitPrice').summary().show()"
   ]
  },
  {
   "cell_type": "code",
   "execution_count": 50,
   "id": "e5ac404e-6889-4ef2-aac2-7babf9c21ecb",
   "metadata": {},
   "outputs": [
    {
     "name": "stdout",
     "output_type": "stream",
     "text": [
      "+--------------+-----+\n",
      "|       Country|darab|\n",
      "+--------------+-----+\n",
      "|United Kingdom| 3950|\n",
      "+--------------+-----+\n",
      "\n"
     ]
    }
   ],
   "source": [
    "retail.groupBy('Country').agg(countDistinct('CustomerID').alias('darab')).orderBy(col('darab').desc()).limit(1).show()"
   ]
  },
  {
   "cell_type": "code",
   "execution_count": 59,
   "id": "d60341fe-ab4d-4e62-a744-4953052d4830",
   "metadata": {},
   "outputs": [],
   "source": [
    "#Adjuk meg azt az 5 országot amelyből a legtöbb bevétel származott"
   ]
  },
  {
   "cell_type": "code",
   "execution_count": 58,
   "id": "7b2d3fd1-0760-4be6-bde5-be8191a2e1d6",
   "metadata": {},
   "outputs": [
    {
     "name": "stdout",
     "output_type": "stream",
     "text": [
      "+--------------+------------------+\n",
      "|       Country|            osszeg|\n",
      "+--------------+------------------+\n",
      "|United Kingdom| 8208343.203999796|\n",
      "|   Netherlands|         284661.54|\n",
      "|          EIRE|263276.82000000007|\n",
      "|       Germany|221698.21000000005|\n",
      "|        France|197463.59000000008|\n",
      "+--------------+------------------+\n",
      "\n"
     ]
    }
   ],
   "source": [
    "retail.withColumn('bevetel', expr('QUANTITY * UNITPRICE')).groupBy('Country').agg(sum('bevetel').alias('osszeg')).orderBy(col('osszeg').desc()).limit(5).show()"
   ]
  },
  {
   "cell_type": "code",
   "execution_count": 60,
   "id": "49996968-95b7-48ee-8e48-e6ba6418ed10",
   "metadata": {},
   "outputs": [],
   "source": [
    "#Melyik termék termelte a legnagyobb bevételt"
   ]
  },
  {
   "cell_type": "code",
   "execution_count": 64,
   "id": "86ab152a-e38b-4c19-941c-7a4fe931f37a",
   "metadata": {},
   "outputs": [
    {
     "name": "stdout",
     "output_type": "stream",
     "text": [
      "+--------------+---------+\n",
      "|   Description|   osszeg|\n",
      "+--------------+---------+\n",
      "|DOTCOM POSTAGE|206245.48|\n",
      "+--------------+---------+\n",
      "\n"
     ]
    }
   ],
   "source": [
    "retail.withColumn('bevetel', expr('QUANTITY * UNITPRICE')).groupBy('Description').agg(sum('bevetel').alias('osszeg')).orderBy(col('osszeg').desc()).limit(1).show()"
   ]
  },
  {
   "cell_type": "code",
   "execution_count": 65,
   "id": "b523a536-c17f-4b48-a8c7-6249eaf0608d",
   "metadata": {},
   "outputs": [
    {
     "name": "stdout",
     "output_type": "stream",
     "text": [
      "+--------------------+---------+\n",
      "|         Description|mennyiseg|\n",
      "+--------------------+---------+\n",
      "|WORLD WAR 2 GLIDE...|    53847|\n",
      "+--------------------+---------+\n",
      "\n"
     ]
    }
   ],
   "source": [
    "#Melyik a legnépszerűbb termék\n",
    "retail.groupBy('Description').agg(sum('quantity').alias('mennyiseg')).orderBy(col('mennyiseg').desc()).limit(1).show()"
   ]
  },
  {
   "cell_type": "code",
   "execution_count": null,
   "id": "f0438162-cb5c-48f0-894e-49f0d88c2df8",
   "metadata": {},
   "outputs": [],
   "source": [
    "#Átlagosan hány különböző terméket vesz egy vásárló egy vásárlás során\n",
    "#Melyik tranzakció során vásároltak a legtöbb különböző terméket és hányat"
   ]
  }
 ],
 "metadata": {
  "kernelspec": {
   "display_name": "Python 3 (ipykernel)",
   "language": "python",
   "name": "python3"
  },
  "language_info": {
   "codemirror_mode": {
    "name": "ipython",
    "version": 3
   },
   "file_extension": ".py",
   "mimetype": "text/x-python",
   "name": "python",
   "nbconvert_exporter": "python",
   "pygments_lexer": "ipython3",
   "version": "3.11.6"
  }
 },
 "nbformat": 4,
 "nbformat_minor": 5
}
